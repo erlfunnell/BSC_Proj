{
 "cells": [
  {
   "cell_type": "markdown",
   "metadata": {
    "collapsed": true,
    "pycharm": {
     "name": "#%% md\n"
    }
   },
   "source": [
    "### Import libraries"
   ]
  },
  {
   "cell_type": "code",
   "execution_count": 738,
   "metadata": {
    "pycharm": {
     "name": "#%%\n"
    }
   },
   "outputs": [],
   "source": [
    "import pandas as pd\n",
    "import os\n",
    "#import deeplabcut\n",
    "import matplotlib.pyplot as plt\n",
    "import seaborn as sns\n",
    "import numpy as np\n",
    "from collections import namedtuple\n",
    "from scipy.spatial import distance\n",
    "from pathlib import Path"
   ]
  },
  {
   "cell_type": "markdown",
   "metadata": {
    "pycharm": {
     "name": "#%% md\n"
    }
   },
   "source": [
    "### Set directory and read files"
   ]
  },
  {
   "cell_type": "code",
   "execution_count": 790,
   "metadata": {
    "pycharm": {
     "name": "#%%\n"
    }
   },
   "outputs": [
    {
     "name": "stdout",
     "output_type": "stream",
     "text": [
      "['MAR', 'MPV4_MC0', 'M7R', 'M70', 'MFR', 'ME0', 'MPV4_MA10', 'MPV4_MA11', 'MPV3_MA10', 'M4L', 'MPV4_MA1', 'MPV3_MA20', 'M7L', 'MPV3_MA11', 'MPV4_MB1', 'MPV4_MB10', 'MEL', 'MPV4_MB11', 'MFL']\n"
     ]
    }
   ],
   "source": [
    "#set directory\n",
    "data_dir = \"/Users/eloisefunnell/Downloads/OPL_Final\"\n",
    "mouse_ids = [f for f in os.listdir(data_dir) if (os.path.isdir(os.path.join(data_dir, f)))]\n",
    "\n",
    "print(mouse_ids)"
   ]
  },
  {
   "cell_type": "code",
   "execution_count": 791,
   "metadata": {
    "pycharm": {
     "name": "#%%\n"
    }
   },
   "outputs": [],
   "source": [
    "#function to read DLC csv files as df reproducibly \n",
    "def read_session_csv(data_dir, mouse_id, session_date):\n",
    "    session_path = os.path.join(data_dir, mouse_id, session_date)\n",
    "    session_files = [f for f in os.listdir(session_path) if (f.endswith(\".csv\"))]\n",
    "    session_csv = os.path.join(session_path, session_files[0])\n",
    "    df = pd.read_csv(session_csv, header=[1,2], index_col=0)\n",
    "    df.name = mouse_id+\"_\"+session_date\n",
    "    return df"
   ]
  },
  {
   "cell_type": "code",
   "execution_count": 838,
   "metadata": {
    "pycharm": {
     "name": "#%%\n"
    }
   },
   "outputs": [
    {
     "data": {
      "text/html": [
       "<div>\n",
       "<style scoped>\n",
       "    .dataframe tbody tr th:only-of-type {\n",
       "        vertical-align: middle;\n",
       "    }\n",
       "\n",
       "    .dataframe tbody tr th {\n",
       "        vertical-align: top;\n",
       "    }\n",
       "\n",
       "    .dataframe thead tr th {\n",
       "        text-align: left;\n",
       "    }\n",
       "</style>\n",
       "<table border=\"1\" class=\"dataframe\">\n",
       "  <thead>\n",
       "    <tr>\n",
       "      <th>bodyparts</th>\n",
       "      <th colspan=\"3\" halign=\"left\">nose</th>\n",
       "      <th colspan=\"3\" halign=\"left\">headleft</th>\n",
       "      <th colspan=\"3\" halign=\"left\">headright</th>\n",
       "      <th colspan=\"3\" halign=\"left\">objectA</th>\n",
       "      <th colspan=\"3\" halign=\"left\">objectB</th>\n",
       "    </tr>\n",
       "    <tr>\n",
       "      <th>coords</th>\n",
       "      <th>x</th>\n",
       "      <th>y</th>\n",
       "      <th>likelihood</th>\n",
       "      <th>x</th>\n",
       "      <th>y</th>\n",
       "      <th>likelihood</th>\n",
       "      <th>x</th>\n",
       "      <th>y</th>\n",
       "      <th>likelihood</th>\n",
       "      <th>x</th>\n",
       "      <th>y</th>\n",
       "      <th>likelihood</th>\n",
       "      <th>x</th>\n",
       "      <th>y</th>\n",
       "      <th>likelihood</th>\n",
       "    </tr>\n",
       "  </thead>\n",
       "  <tbody>\n",
       "    <tr>\n",
       "      <th>0</th>\n",
       "      <td>220.295959</td>\n",
       "      <td>109.514076</td>\n",
       "      <td>0.002564</td>\n",
       "      <td>237.878296</td>\n",
       "      <td>106.059944</td>\n",
       "      <td>0.001249</td>\n",
       "      <td>218.639832</td>\n",
       "      <td>110.922623</td>\n",
       "      <td>0.002093</td>\n",
       "      <td>224.191727</td>\n",
       "      <td>102.228973</td>\n",
       "      <td>1.0</td>\n",
       "      <td>350.270294</td>\n",
       "      <td>184.699692</td>\n",
       "      <td>0.999983</td>\n",
       "    </tr>\n",
       "    <tr>\n",
       "      <th>1</th>\n",
       "      <td>220.335983</td>\n",
       "      <td>109.586952</td>\n",
       "      <td>0.002602</td>\n",
       "      <td>237.909943</td>\n",
       "      <td>106.079437</td>\n",
       "      <td>0.001211</td>\n",
       "      <td>218.729538</td>\n",
       "      <td>110.937683</td>\n",
       "      <td>0.002159</td>\n",
       "      <td>224.182785</td>\n",
       "      <td>102.163574</td>\n",
       "      <td>1.0</td>\n",
       "      <td>350.308563</td>\n",
       "      <td>184.713943</td>\n",
       "      <td>0.999983</td>\n",
       "    </tr>\n",
       "    <tr>\n",
       "      <th>2</th>\n",
       "      <td>220.289978</td>\n",
       "      <td>109.569153</td>\n",
       "      <td>0.002690</td>\n",
       "      <td>237.933807</td>\n",
       "      <td>106.042503</td>\n",
       "      <td>0.001224</td>\n",
       "      <td>218.736389</td>\n",
       "      <td>110.902641</td>\n",
       "      <td>0.002198</td>\n",
       "      <td>224.146988</td>\n",
       "      <td>102.193588</td>\n",
       "      <td>1.0</td>\n",
       "      <td>350.316132</td>\n",
       "      <td>184.736069</td>\n",
       "      <td>0.999984</td>\n",
       "    </tr>\n",
       "    <tr>\n",
       "      <th>3</th>\n",
       "      <td>220.309921</td>\n",
       "      <td>109.561539</td>\n",
       "      <td>0.002645</td>\n",
       "      <td>237.905228</td>\n",
       "      <td>106.053169</td>\n",
       "      <td>0.001208</td>\n",
       "      <td>218.745209</td>\n",
       "      <td>110.910042</td>\n",
       "      <td>0.002169</td>\n",
       "      <td>224.156067</td>\n",
       "      <td>102.188545</td>\n",
       "      <td>1.0</td>\n",
       "      <td>350.317535</td>\n",
       "      <td>184.720932</td>\n",
       "      <td>0.999983</td>\n",
       "    </tr>\n",
       "    <tr>\n",
       "      <th>4</th>\n",
       "      <td>220.306488</td>\n",
       "      <td>109.562622</td>\n",
       "      <td>0.002696</td>\n",
       "      <td>237.900833</td>\n",
       "      <td>106.049767</td>\n",
       "      <td>0.001229</td>\n",
       "      <td>218.739517</td>\n",
       "      <td>110.926720</td>\n",
       "      <td>0.002207</td>\n",
       "      <td>224.149033</td>\n",
       "      <td>102.170067</td>\n",
       "      <td>1.0</td>\n",
       "      <td>350.318146</td>\n",
       "      <td>184.719971</td>\n",
       "      <td>0.999984</td>\n",
       "    </tr>\n",
       "  </tbody>\n",
       "</table>\n",
       "</div>"
      ],
      "text/plain": [
       "bodyparts        nose                           headleft              \\\n",
       "coords              x           y likelihood           x           y   \n",
       "0          220.295959  109.514076   0.002564  237.878296  106.059944   \n",
       "1          220.335983  109.586952   0.002602  237.909943  106.079437   \n",
       "2          220.289978  109.569153   0.002690  237.933807  106.042503   \n",
       "3          220.309921  109.561539   0.002645  237.905228  106.053169   \n",
       "4          220.306488  109.562622   0.002696  237.900833  106.049767   \n",
       "\n",
       "bodyparts              headright                            objectA  \\\n",
       "coords    likelihood           x           y likelihood           x   \n",
       "0           0.001249  218.639832  110.922623   0.002093  224.191727   \n",
       "1           0.001211  218.729538  110.937683   0.002159  224.182785   \n",
       "2           0.001224  218.736389  110.902641   0.002198  224.146988   \n",
       "3           0.001208  218.745209  110.910042   0.002169  224.156067   \n",
       "4           0.001229  218.739517  110.926720   0.002207  224.149033   \n",
       "\n",
       "bodyparts                            objectB                         \n",
       "coords              y likelihood           x           y likelihood  \n",
       "0          102.228973        1.0  350.270294  184.699692   0.999983  \n",
       "1          102.163574        1.0  350.308563  184.713943   0.999983  \n",
       "2          102.193588        1.0  350.316132  184.736069   0.999984  \n",
       "3          102.188545        1.0  350.317535  184.720932   0.999983  \n",
       "4          102.170067        1.0  350.318146  184.719971   0.999984  "
      ]
     },
     "execution_count": 838,
     "metadata": {},
     "output_type": "execute_result"
    }
   ],
   "source": [
    "#import data\n",
    "mouse = 'MPV4_MB11'\n",
    "session = '2'\n",
    "group = 'Control'\n",
    "\n",
    "#if session 1, leave as 'left' and 'right'\n",
    "left_obj = 'left' \n",
    "right_obj = 'right' \n",
    "\n",
    "#if session 2, note which object has been moved otherwise na\n",
    "familiar = 'right'\n",
    "novel = 'left'\n",
    "\n",
    "sess_df = read_session_csv(data_dir, mouse, session)\n",
    "\n",
    "#run rest of script + output csv will be saved with behaviour summary for animal \n",
    "sess_df.head()"
   ]
  },
  {
   "cell_type": "markdown",
   "metadata": {
    "pycharm": {
     "name": "#%% md\n"
    }
   },
   "source": [
    "## Analysis\n",
    "\n",
    "For both *training* and *test* sessions:\n",
    "\n",
    "Extract:\n",
    "- trajectory (trace and heatmap)\n",
    "- time in ROIs\n",
    "- locomotion (distance travelled)\n",
    "\n"
   ]
  },
  {
   "cell_type": "code",
   "execution_count": 839,
   "metadata": {
    "pycharm": {
     "name": "#%%\n"
    }
   },
   "outputs": [
    {
     "data": {
      "text/html": [
       "<div>\n",
       "<style scoped>\n",
       "    .dataframe tbody tr th:only-of-type {\n",
       "        vertical-align: middle;\n",
       "    }\n",
       "\n",
       "    .dataframe tbody tr th {\n",
       "        vertical-align: top;\n",
       "    }\n",
       "\n",
       "    .dataframe thead tr th {\n",
       "        text-align: left;\n",
       "    }\n",
       "</style>\n",
       "<table border=\"1\" class=\"dataframe\">\n",
       "  <thead>\n",
       "    <tr>\n",
       "      <th>bodyparts</th>\n",
       "      <th colspan=\"3\" halign=\"left\">nose</th>\n",
       "      <th colspan=\"3\" halign=\"left\">headleft</th>\n",
       "      <th colspan=\"3\" halign=\"left\">headright</th>\n",
       "      <th colspan=\"3\" halign=\"left\">objectA</th>\n",
       "      <th colspan=\"3\" halign=\"left\">objectB</th>\n",
       "    </tr>\n",
       "    <tr>\n",
       "      <th>coords</th>\n",
       "      <th>x</th>\n",
       "      <th>y</th>\n",
       "      <th>likelihood</th>\n",
       "      <th>x</th>\n",
       "      <th>y</th>\n",
       "      <th>likelihood</th>\n",
       "      <th>x</th>\n",
       "      <th>y</th>\n",
       "      <th>likelihood</th>\n",
       "      <th>x</th>\n",
       "      <th>y</th>\n",
       "      <th>likelihood</th>\n",
       "      <th>x</th>\n",
       "      <th>y</th>\n",
       "      <th>likelihood</th>\n",
       "    </tr>\n",
       "  </thead>\n",
       "  <tbody>\n",
       "    <tr>\n",
       "      <th>0</th>\n",
       "      <td>220.295959</td>\n",
       "      <td>109.514076</td>\n",
       "      <td>0.002564</td>\n",
       "      <td>237.878296</td>\n",
       "      <td>106.059944</td>\n",
       "      <td>0.001249</td>\n",
       "      <td>218.639832</td>\n",
       "      <td>110.922623</td>\n",
       "      <td>0.002093</td>\n",
       "      <td>224.191727</td>\n",
       "      <td>102.228973</td>\n",
       "      <td>1.0</td>\n",
       "      <td>350.270294</td>\n",
       "      <td>184.699692</td>\n",
       "      <td>0.999983</td>\n",
       "    </tr>\n",
       "    <tr>\n",
       "      <th>1</th>\n",
       "      <td>220.335983</td>\n",
       "      <td>109.586952</td>\n",
       "      <td>0.002602</td>\n",
       "      <td>237.909943</td>\n",
       "      <td>106.079437</td>\n",
       "      <td>0.001211</td>\n",
       "      <td>218.729538</td>\n",
       "      <td>110.937683</td>\n",
       "      <td>0.002159</td>\n",
       "      <td>224.182785</td>\n",
       "      <td>102.163574</td>\n",
       "      <td>1.0</td>\n",
       "      <td>350.308563</td>\n",
       "      <td>184.713943</td>\n",
       "      <td>0.999983</td>\n",
       "    </tr>\n",
       "    <tr>\n",
       "      <th>2</th>\n",
       "      <td>220.289978</td>\n",
       "      <td>109.569153</td>\n",
       "      <td>0.002690</td>\n",
       "      <td>237.933807</td>\n",
       "      <td>106.042503</td>\n",
       "      <td>0.001224</td>\n",
       "      <td>218.736389</td>\n",
       "      <td>110.902641</td>\n",
       "      <td>0.002198</td>\n",
       "      <td>224.146988</td>\n",
       "      <td>102.193588</td>\n",
       "      <td>1.0</td>\n",
       "      <td>350.316132</td>\n",
       "      <td>184.736069</td>\n",
       "      <td>0.999984</td>\n",
       "    </tr>\n",
       "    <tr>\n",
       "      <th>3</th>\n",
       "      <td>220.309921</td>\n",
       "      <td>109.561539</td>\n",
       "      <td>0.002645</td>\n",
       "      <td>237.905228</td>\n",
       "      <td>106.053169</td>\n",
       "      <td>0.001208</td>\n",
       "      <td>218.745209</td>\n",
       "      <td>110.910042</td>\n",
       "      <td>0.002169</td>\n",
       "      <td>224.156067</td>\n",
       "      <td>102.188545</td>\n",
       "      <td>1.0</td>\n",
       "      <td>350.317535</td>\n",
       "      <td>184.720932</td>\n",
       "      <td>0.999983</td>\n",
       "    </tr>\n",
       "    <tr>\n",
       "      <th>4</th>\n",
       "      <td>220.306488</td>\n",
       "      <td>109.562622</td>\n",
       "      <td>0.002696</td>\n",
       "      <td>237.900833</td>\n",
       "      <td>106.049767</td>\n",
       "      <td>0.001229</td>\n",
       "      <td>218.739517</td>\n",
       "      <td>110.926720</td>\n",
       "      <td>0.002207</td>\n",
       "      <td>224.149033</td>\n",
       "      <td>102.170067</td>\n",
       "      <td>1.0</td>\n",
       "      <td>350.318146</td>\n",
       "      <td>184.719971</td>\n",
       "      <td>0.999984</td>\n",
       "    </tr>\n",
       "  </tbody>\n",
       "</table>\n",
       "</div>"
      ],
      "text/plain": [
       "bodyparts        nose                           headleft              \\\n",
       "coords              x           y likelihood           x           y   \n",
       "0          220.295959  109.514076   0.002564  237.878296  106.059944   \n",
       "1          220.335983  109.586952   0.002602  237.909943  106.079437   \n",
       "2          220.289978  109.569153   0.002690  237.933807  106.042503   \n",
       "3          220.309921  109.561539   0.002645  237.905228  106.053169   \n",
       "4          220.306488  109.562622   0.002696  237.900833  106.049767   \n",
       "\n",
       "bodyparts              headright                            objectA  \\\n",
       "coords    likelihood           x           y likelihood           x   \n",
       "0           0.001249  218.639832  110.922623   0.002093  224.191727   \n",
       "1           0.001211  218.729538  110.937683   0.002159  224.182785   \n",
       "2           0.001224  218.736389  110.902641   0.002198  224.146988   \n",
       "3           0.001208  218.745209  110.910042   0.002169  224.156067   \n",
       "4           0.001229  218.739517  110.926720   0.002207  224.149033   \n",
       "\n",
       "bodyparts                            objectB                         \n",
       "coords              y likelihood           x           y likelihood  \n",
       "0          102.228973        1.0  350.270294  184.699692   0.999983  \n",
       "1          102.163574        1.0  350.308563  184.713943   0.999983  \n",
       "2          102.193588        1.0  350.316132  184.736069   0.999984  \n",
       "3          102.188545        1.0  350.317535  184.720932   0.999983  \n",
       "4          102.170067        1.0  350.318146  184.719971   0.999984  "
      ]
     },
     "execution_count": 839,
     "metadata": {},
     "output_type": "execute_result"
    }
   ],
   "source": [
    "#select body parts to track\n",
    "\n",
    "bps_first=sess_df.columns.get_level_values(0)\n",
    "bps_to_plot=['nose', 'objectA', 'objectB']\n",
    "\n",
    "\n",
    "sess_df.head()"
   ]
  },
  {
   "cell_type": "code",
   "execution_count": 840,
   "metadata": {
    "pycharm": {
     "name": "#%%\n"
    }
   },
   "outputs": [
    {
     "name": "stdout",
     "output_type": "stream",
     "text": [
      "37.15384615384615\n"
     ]
    }
   ],
   "source": [
    "#define ROIs, selecting coordinates with high likelihood and setting scale \n",
    "objR = sess_df['objectB'][sess_df['objectB','likelihood'] > 0.9].mean()\n",
    "objL = sess_df['objectA'][sess_df['objectA','likelihood'] > 0.9].mean()\n",
    "\n",
    "objR.name = 'Right'\n",
    "objL.name = 'Left'\n",
    "\n",
    "objs = [objL, objR]\n",
    "\n",
    "#object sizes (px and cm) measured using box and video dimensions - for mpv3 control group \n",
    "#objwidth_px = 50 \n",
    "#objwidth_cm = 3.9\n",
    "#scale = 3.9/50\n",
    "#analysis_radius_cm = 3\n",
    "#analysis_radius_px = analysis_radius_cm/scale\n",
    "#total_radius_px = analysis_radius_px + objwidth_px\n",
    "#boxlength_cm = 49.5\n",
    "#boxlength_px = boxlength_cm/scale\n",
    "#boxwidth_cm = 30\n",
    "#boxwidth_px = boxwidth_cm/scale\n",
    "\n",
    "\n",
    "#object sizes (px and cm) measured using box and video dimensions - for mpv4 control group \n",
    "objwidth_px = 21 \n",
    "objwidth_cm = 3.9\n",
    "scale = 3.9/21\n",
    "analysis_radius_cm = 3\n",
    "analysis_radius_px = analysis_radius_cm/scale\n",
    "total_radius_px = analysis_radius_px + objwidth_px\n",
    "boxlength_cm = 49.5\n",
    "boxlength_px = boxlength_cm/scale\n",
    "boxwidth_cm = 30\n",
    "boxwidth_px = boxwidth_cm/scale\n",
    "\n",
    "\n",
    "#object sizes (px and cm) measured using box and video dimensions - for APP group \n",
    "#objwidth_px = 21\n",
    "#objwidth_cm = 3.9\n",
    "#scale = 3.9/21\n",
    "#analysis_radius_cm = 3\n",
    "#analysis_radius_px = analysis_radius_cm/scale\n",
    "#total_radius_px = analysis_radius_px + objwidth_px\n",
    "#boxlength_cm = 49.5\n",
    "#boxlength_px = boxlength_cm/scale\n",
    "#boxwidth_cm = 30\n",
    "#boxwidth_px = boxwidth_cm/scale\n",
    "\n",
    "\n",
    "\n",
    "#cm / pixels = scale\n",
    "#cm / scale = pixels\n",
    "#pixel * scale = cm \n",
    "\n",
    "\n",
    "print(total_radius_px)"
   ]
  },
  {
   "cell_type": "code",
   "execution_count": 841,
   "metadata": {},
   "outputs": [
    {
     "data": {
      "image/png": "[encoded data removed]",
      "text/plain": [
       "<Figure size 720x288 with 2 Axes>"
      ]
     },
     "metadata": {
      "needs_background": "light"
     },
     "output_type": "display_data"
    },
    {
     "data": {
      "image/png": "[encoded data removed]",
      "text/plain": [
       "<Figure size 720x288 with 2 Axes>"
      ]
     },
     "metadata": {
      "needs_background": "light"
     },
     "output_type": "display_data"
    },
    {
     "data": {
      "image/png": "[encoded data removed]",
      "text/plain": [
       "<Figure size 720x288 with 2 Axes>"
      ]
     },
     "metadata": {
      "needs_background": "light"
     },
     "output_type": "display_data"
    },
    {
     "data": {
      "image/png": "[encoded data removed]",
      "text/plain": [
       "<Figure size 720x288 with 2 Axes>"
      ]
     },
     "metadata": {
      "needs_background": "light"
     },
     "output_type": "display_data"
    }
   ],
   "source": [
    "#visualise movement of selected body parts\n",
    "\n",
    "def get_cmap(n, name='plasma'):\n",
    "    return plt.cm.get_cmap(name, n)\n",
    "\n",
    "def Histogram(vector,color,bins):\n",
    "    dvector=np.diff(vector)\n",
    "    dvector=dvector[np.isfinite(dvector)]\n",
    "    plt.hist(dvector,color=color,histtype='step',bins=bins)\n",
    "\n",
    "def PlottingResults(sess_df,bps_to_plot,alphavalue=.3,pcutoff=.9,colormap='Paired',fs=(4,3)):\n",
    "    ''' Plots poses vs time; pose x vs pose y; histogram of differences and likelihoods.'''\n",
    "    plt.figure(figsize=fs)\n",
    "    colors = get_cmap(len(bps_to_plot),name = colormap)\n",
    "    scorer=sess_df.columns.get_level_values(0)[0] #you can read out the header to get the scorer name!\n",
    "    plt.xlabel('x coordinate')\n",
    "    plt.ylabel('y coordinate')\n",
    "\n",
    "    for bpindex, bp in enumerate(bps_to_plot):\n",
    "        Index=sess_df[bp]['likelihood'].values > pcutoff\n",
    "        plt.plot(sess_df[bp]['x'].values[Index],sess_df[bp]['y'].values[Index],'.',color=colors(bpindex),alpha=alphavalue)\n",
    "\n",
    "    plt.gca().invert_yaxis()\n",
    "    plt.savefig(os.path.join(data_dir,\"trajectory\"+mouse + session))\n",
    "\n",
    "    \n",
    "    sm = plt.cm.ScalarMappable(cmap=plt.get_cmap(colormap), norm=plt.Normalize(vmin=0, vmax=len(bps_to_plot)-1))\n",
    "    sm._A = []\n",
    "    cbar = plt.colorbar(sm,ticks=range(len(bps_to_plot)))\n",
    "    cbar.set_ticklabels(bps_to_plot)\n",
    "    plt.figure(figsize=fs)\n",
    "    Time=np.arange(np.size(sess_df[bps_to_plot[0]]['x'].values))\n",
    "    #plt.savefig(os.path.join(data_dir,\"trajectory\"+mouse + session))\n",
    "\n",
    "    for bpindex, bp in enumerate(bps_to_plot):\n",
    "        Index=sess_df[bp]['likelihood'].values > pcutoff\n",
    "        plt.plot(Time[Index],sess_df[bp]['x'].values[Index],'--',color=colors(bpindex),alpha=alphavalue)\n",
    "        plt.plot(Time[Index],sess_df[bp]['y'].values[Index],'-',color=colors(bpindex),alpha=alphavalue)       \n",
    "        \n",
    "    sm = plt.cm.ScalarMappable(cmap=plt.get_cmap(colormap), norm=plt.Normalize(vmin=0, vmax=len(bps_to_plot)-1))\n",
    "    sm._A = []\n",
    "    cbar = plt.colorbar(sm,ticks=range(len(bps_to_plot)))\n",
    "    cbar.set_ticklabels(bps_to_plot)\n",
    "    plt.xlabel('Frame index')\n",
    "    plt.ylabel('X and y-position in pixels')\n",
    "    #plt.savefig(os.path.join(tmpfolder,\"plot\"+suffix))\n",
    "\n",
    "    plt.figure(figsize=fs)\n",
    "    for bpindex, bp in enumerate(bps_to_plot):\n",
    "        Index=sess_df[bp]['likelihood'].values > pcutoff\n",
    "        plt.plot(Time,sess_df[bp]['likelihood'].values,'-',color=colors(bpindex),alpha=alphavalue)\n",
    "\n",
    "    sm = plt.cm.ScalarMappable(cmap=plt.get_cmap(colormap), norm=plt.Normalize(vmin=0, vmax=len(bps_to_plot)-1))\n",
    "    sm._A = []\n",
    "    cbar = plt.colorbar(sm,ticks=range(len(bps_to_plot)))\n",
    "    cbar.set_ticklabels(bps_to_plot)\n",
    "    plt.xlabel('Frame index')\n",
    "    plt.ylabel('likelihood')\n",
    "\n",
    "    #plt.savefig(os.path.join(tmpfolder,\"plot-likelihood\"+suffix))\n",
    "\n",
    "    plt.figure(figsize=fs)\n",
    "    bins=np.linspace(0,np.amax(sess_df.max()),100)\n",
    "\n",
    "    for bpindex, bp in enumerate(bps_to_plot):\n",
    "        Index=sess_df[bp]['likelihood'].values < pcutoff\n",
    "        X=sess_df[bp]['x'].values\n",
    "        X[Index]=np.nan\n",
    "        Histogram(X,colors(bpindex),bins)\n",
    "        Y=sess_df[bp]['x'].values\n",
    "        Y[Index]=np.nan\n",
    "        Histogram(Y,colors(bpindex),bins)\n",
    "\n",
    "    sm = plt.cm.ScalarMappable(cmap=plt.get_cmap(colormap), norm=plt.Normalize(vmin=0, vmax=len(bps_to_plot)-1))\n",
    "    sm._A = []\n",
    "    cbar = plt.colorbar(sm,ticks=range(len(bps_to_plot)))\n",
    "    cbar.set_ticklabels(bps_to_plot)\n",
    "    plt.ylabel('Count')\n",
    "    plt.xlabel('DeltaX and DeltaY')\n",
    "    \n",
    "    #plt.savefig(os.path.join(tmpfolder,\"hist\"+suffix))\n",
    "\n",
    "\n",
    "%matplotlib inline\n",
    "PlottingResults(sess_df,bps_to_plot,alphavalue=.75,pcutoff=.9,fs=(10,4))\n"
   ]
  },
  {
   "cell_type": "code",
   "execution_count": 824,
   "metadata": {
    "pycharm": {
     "name": "#%%\n"
    }
   },
   "outputs": [
    {
     "data": {
      "image/png": "[encoded data removed]",
      "text/plain": [
       "<Figure size 576x288 with 2 Axes>"
      ]
     },
     "metadata": {},
     "output_type": "display_data"
    }
   ],
   "source": [
    "# plotting a heatmap using x and y correlation \n",
    "plt.rcParams.update({\n",
    "    \"figure.facecolor\":  (1.0, 1.0, 1.0, 1),  # red   with alpha = 30%\n",
    "    \"axes.facecolor\":    (1.0, 1.0, 1.0, 1),  # green with alpha = 50%\n",
    "    \"savefig.facecolor\": (1.0, 1.0, 1.0, 1),  # blue  with alpha = 20%\n",
    "})\n",
    "plt.rcParams['savefig.dpi'] = 300\n",
    "\n",
    "bp = 'nose'\n",
    "ind = sess_df[bp] \n",
    "heatmap_df = ind[~(ind['likelihood'] < 0.9)].drop(columns=['likelihood']) \n",
    "f = plt.figure(figsize=(8,4))\n",
    "ax = f.subplots()\n",
    "sns.histplot(heatmap_df,x='x', y='y', cbar=True, ax=ax, binwidth=(15, 15), cmap='rocket_r')\n",
    "circle1 = plt.Circle((objs[0]['x'],objs[0]['y']), total_radius_px, facecolor='none', edgecolor='black')\n",
    "circle2 = plt.Circle((objs[1]['x'],objs[1]['y']), total_radius_px, edgecolor='black', facecolor='none')\n",
    "circle11 = plt.Circle((objs[0]['x'],objs[0]['y']), objwidth_px,color='black')\n",
    "circle22 = plt.Circle((objs[1]['x'],objs[1]['y']), objwidth_px, color='black')\n",
    "ax.add_patch(circle1)\n",
    "ax.add_patch(circle2)\n",
    "ax.add_patch(circle11)\n",
    "ax.add_patch(circle22)\n",
    "ax.invert_yaxis()\n",
    "plt.xlabel('x coordinate')\n",
    "ax.set_title('Heatmap of Nose Movement in Mouse ' + mouse + ' - Test Phase')\n",
    "plt.ylabel('y coordinate')\n",
    "\n",
    "plt.savefig('MEL_2_heatmap_plot.png', transparent=False)"
   ]
  },
  {
   "cell_type": "code",
   "execution_count": 754,
   "metadata": {
    "pycharm": {
     "name": "#%%\n"
    }
   },
   "outputs": [],
   "source": [
    "#functions to identify chosen body parts within analysis radius\n",
    "def check_bp_in_circle(radius,center,bp_point):\n",
    "    if ((bp_point[0] - center[0])**2+(bp_point[1] - center[1])**2) <= (radius**2):\n",
    "        return True\n",
    "    else:\n",
    "        return False\n",
    "\n",
    "def frames_in_area(bp_df,area_settings):\n",
    "    if area_settings['type'] == 'circle':\n",
    "        in_area = []\n",
    "        for frame in bp_df.index:\n",
    "            in_area.append(check_bp_in_circle(area_settings['radius'],area_settings['center'], bp_df.loc[frame]))\n",
    "        bp_df['in'+area_settings['center'].name] = in_area\n",
    "        return bp_df"
   ]
  },
  {
   "cell_type": "code",
   "execution_count": 681,
   "metadata": {
    "pycharm": {
     "name": "#%%\n"
    }
   },
   "outputs": [
    {
     "name": "stdout",
     "output_type": "stream",
     "text": [
      "608\n"
     ]
    },
    {
     "data": {
      "text/html": [
       "<div>\n",
       "<style scoped>\n",
       "    .dataframe tbody tr th:only-of-type {\n",
       "        vertical-align: middle;\n",
       "    }\n",
       "\n",
       "    .dataframe tbody tr th {\n",
       "        vertical-align: top;\n",
       "    }\n",
       "\n",
       "    .dataframe thead th {\n",
       "        text-align: right;\n",
       "    }\n",
       "</style>\n",
       "<table border=\"1\" class=\"dataframe\">\n",
       "  <thead>\n",
       "    <tr style=\"text-align: right;\">\n",
       "      <th>coords</th>\n",
       "      <th>x</th>\n",
       "      <th>y</th>\n",
       "    </tr>\n",
       "  </thead>\n",
       "  <tbody>\n",
       "    <tr>\n",
       "      <th>580</th>\n",
       "      <td>480.762543</td>\n",
       "      <td>278.700958</td>\n",
       "    </tr>\n",
       "    <tr>\n",
       "      <th>581</th>\n",
       "      <td>480.246826</td>\n",
       "      <td>277.195984</td>\n",
       "    </tr>\n",
       "    <tr>\n",
       "      <th>582</th>\n",
       "      <td>482.719543</td>\n",
       "      <td>278.466278</td>\n",
       "    </tr>\n",
       "    <tr>\n",
       "      <th>586</th>\n",
       "      <td>482.271423</td>\n",
       "      <td>269.011353</td>\n",
       "    </tr>\n",
       "    <tr>\n",
       "      <th>592</th>\n",
       "      <td>469.645874</td>\n",
       "      <td>246.508545</td>\n",
       "    </tr>\n",
       "  </tbody>\n",
       "</table>\n",
       "</div>"
      ],
      "text/plain": [
       "coords           x           y\n",
       "580     480.762543  278.700958\n",
       "581     480.246826  277.195984\n",
       "582     482.719543  278.466278\n",
       "586     482.271423  269.011353\n",
       "592     469.645874  246.508545"
      ]
     },
     "execution_count": 681,
     "metadata": {},
     "output_type": "execute_result"
    }
   ],
   "source": [
    "#select body part for ROI analysis + create df of coordinates with high likelihood\n",
    "chosen_bp = 'nose'\n",
    "bp_df = sess_df[chosen_bp][sess_df[chosen_bp,'likelihood'] > 0.9][['x','y']]\n",
    "\n",
    "#check frame skips - if high adjust threshold or refine network \n",
    "print(np.diff(bp_df.index).max())\n",
    "\n",
    "bp_df.head()"
   ]
  },
  {
   "cell_type": "code",
   "execution_count": 682,
   "metadata": {
    "pycharm": {
     "name": "#%%\n"
    }
   },
   "outputs": [
    {
     "data": {
      "text/html": [
       "<div>\n",
       "<style scoped>\n",
       "    .dataframe tbody tr th:only-of-type {\n",
       "        vertical-align: middle;\n",
       "    }\n",
       "\n",
       "    .dataframe tbody tr th {\n",
       "        vertical-align: top;\n",
       "    }\n",
       "\n",
       "    .dataframe thead th {\n",
       "        text-align: right;\n",
       "    }\n",
       "</style>\n",
       "<table border=\"1\" class=\"dataframe\">\n",
       "  <thead>\n",
       "    <tr style=\"text-align: right;\">\n",
       "      <th>coords</th>\n",
       "      <th>x</th>\n",
       "      <th>y</th>\n",
       "      <th>inLeft</th>\n",
       "      <th>inRight</th>\n",
       "    </tr>\n",
       "  </thead>\n",
       "  <tbody>\n",
       "    <tr>\n",
       "      <th>580</th>\n",
       "      <td>480.762543</td>\n",
       "      <td>278.700958</td>\n",
       "      <td>0</td>\n",
       "      <td>0</td>\n",
       "    </tr>\n",
       "    <tr>\n",
       "      <th>581</th>\n",
       "      <td>480.246826</td>\n",
       "      <td>277.195984</td>\n",
       "      <td>0</td>\n",
       "      <td>0</td>\n",
       "    </tr>\n",
       "    <tr>\n",
       "      <th>582</th>\n",
       "      <td>482.719543</td>\n",
       "      <td>278.466278</td>\n",
       "      <td>0</td>\n",
       "      <td>0</td>\n",
       "    </tr>\n",
       "    <tr>\n",
       "      <th>586</th>\n",
       "      <td>482.271423</td>\n",
       "      <td>269.011353</td>\n",
       "      <td>1</td>\n",
       "      <td>0</td>\n",
       "    </tr>\n",
       "    <tr>\n",
       "      <th>592</th>\n",
       "      <td>469.645874</td>\n",
       "      <td>246.508545</td>\n",
       "      <td>1</td>\n",
       "      <td>0</td>\n",
       "    </tr>\n",
       "    <tr>\n",
       "      <th>...</th>\n",
       "      <td>...</td>\n",
       "      <td>...</td>\n",
       "      <td>...</td>\n",
       "      <td>...</td>\n",
       "    </tr>\n",
       "    <tr>\n",
       "      <th>17995</th>\n",
       "      <td>348.685852</td>\n",
       "      <td>396.683777</td>\n",
       "      <td>0</td>\n",
       "      <td>0</td>\n",
       "    </tr>\n",
       "    <tr>\n",
       "      <th>17996</th>\n",
       "      <td>350.071289</td>\n",
       "      <td>395.910614</td>\n",
       "      <td>0</td>\n",
       "      <td>0</td>\n",
       "    </tr>\n",
       "    <tr>\n",
       "      <th>17997</th>\n",
       "      <td>349.392517</td>\n",
       "      <td>395.691986</td>\n",
       "      <td>0</td>\n",
       "      <td>0</td>\n",
       "    </tr>\n",
       "    <tr>\n",
       "      <th>17998</th>\n",
       "      <td>348.650146</td>\n",
       "      <td>396.065338</td>\n",
       "      <td>0</td>\n",
       "      <td>0</td>\n",
       "    </tr>\n",
       "    <tr>\n",
       "      <th>18001</th>\n",
       "      <td>340.481415</td>\n",
       "      <td>381.159271</td>\n",
       "      <td>0</td>\n",
       "      <td>0</td>\n",
       "    </tr>\n",
       "  </tbody>\n",
       "</table>\n",
       "<p>5604 rows × 4 columns</p>\n",
       "</div>"
      ],
      "text/plain": [
       "coords           x           y  inLeft  inRight\n",
       "580     480.762543  278.700958       0        0\n",
       "581     480.246826  277.195984       0        0\n",
       "582     482.719543  278.466278       0        0\n",
       "586     482.271423  269.011353       1        0\n",
       "592     469.645874  246.508545       1        0\n",
       "...            ...         ...     ...      ...\n",
       "17995   348.685852  396.683777       0        0\n",
       "17996   350.071289  395.910614       0        0\n",
       "17997   349.392517  395.691986       0        0\n",
       "17998   348.650146  396.065338       0        0\n",
       "18001   340.481415  381.159271       0        0\n",
       "\n",
       "[5604 rows x 4 columns]"
      ]
     },
     "execution_count": 682,
     "metadata": {},
     "output_type": "execute_result"
    }
   ],
   "source": [
    "#create df of frames where bodypart present in either ROI \n",
    "fia_left = frames_in_area(bp_df, {'type':'circle', 'radius': total_radius_px, 'center':objs[0]})\n",
    "fia_right = frames_in_area(bp_df, {'type':'circle', 'radius': total_radius_px, 'center':objs[1]})\n",
    "\n",
    "fia_both = frames_in_area(bp_df, {'type':'circle', 'radius': total_radius_px, 'center':objs[1]})\n",
    "\n",
    "#fia_left.to_csv(\"fia_left_Frames.csv\")\n",
    "#fia_right.to_csv(\"fia_right_Frames_Right.csv\")\n",
    "\n",
    "\n",
    "fia_both[\"inLeft\"] = fia_both[\"inLeft\"].astype(int)\n",
    "fia_both[\"inRight\"] = fia_both[\"inRight\"].astype(int)\n",
    "\n",
    "#fia_both.to_csv(\"m4l_both.csv\")\n",
    "\n",
    "fia_left"
   ]
  },
  {
   "cell_type": "code",
   "execution_count": 683,
   "metadata": {},
   "outputs": [
    {
     "name": "stdout",
     "output_type": "stream",
     "text": [
      "143\n",
      "253\n",
      "2.38\n",
      "2\n"
     ]
    },
    {
     "data": {
      "text/plain": [
       "[(3479, 3587), (14956, 15164)]"
      ]
     },
     "execution_count": 683,
     "metadata": {},
     "output_type": "execute_result"
    }
   ],
   "source": [
    "#identify no. of 'frames in area' where body part was within ROI for at least 90 frames (1.5 seconds)\n",
    "\n",
    "#identify frames where body part present in ROI \n",
    "fia_left['tag_l'] = fia_left['inLeft'] == 1\n",
    "fia_right['tag_r'] = fia_right['inRight'] == 1\n",
    "\n",
    "#first row is a True preceded by a False\n",
    "first_l = fia_left.index[fia_left['tag_l'] & ~ fia_left['tag_l'].shift(+1).fillna(False)]\n",
    "first_r = fia_right.index[fia_right['tag_r'] & ~ fia_right['tag_r'].shift(+1).fillna(False)]\n",
    "\n",
    "#last row is a True followed by a False\n",
    "last_l = fia_left.index[fia_left['tag_l'] & ~ fia_left['tag_l'].shift(-1).fillna(False)]\n",
    "last_r = fia_right.index[fia_right['tag_r'] & ~ fia_right['tag_r'].shift(-1).fillna(False)]\n",
    "\n",
    "#filter rows which are apart by 90 frames (1.5s) or more\n",
    "pr_l = [(i, j) for i, j in zip(first_l, last_l) if j > i + 89]\n",
    "pr_r = [(i, j) for i, j in zip(first_r, last_r) if j > i + 89]\n",
    "\n",
    "#create dictionaries to hold all the fia_l and fia_r names\n",
    "dict_of_fia_l = {}\n",
    "dict_of_fia_r = {}\n",
    "\n",
    "#loop around pr_l rows and populate each fia_l dataset into a dictionary\n",
    "for n in range(len(pr_l)):\n",
    "    i,j = pr_l[n]\n",
    "    key_name = 'fia_'+ str(n) + '_l'\n",
    "    #store fia_l data into temporary dataframe \n",
    "    df_temp_l = fia_left.loc[i:j]\n",
    "    df_temp_l.insert(0, \"Group\", key_name, True)\n",
    "    dict_of_fia_l[key_name] = df_temp_l\n",
    "\n",
    "#loop around the pr_r rows and populate each fia_r dataset into a dictionary\n",
    "for n in range(len(pr_r)):\n",
    "    i,j = pr_r[n]\n",
    "    key_name = 'fia_'+ str(n) + '_r'\n",
    "    #store fia_r data into temporary dataframe\n",
    "    df_temp_r = fia_right.loc[i:j]\n",
    "    df_temp_r.insert(0, \"Group\", key_name, True)\n",
    "    dict_of_fia_r[key_name] = df_temp_r\n",
    "    \n",
    "#create a dataframe and populate with all the fia_l datasets\n",
    "fia_final_l = pd.concat(dict_of_fia_l, ignore_index=False)\n",
    "\n",
    "#create a dataframe and populate with all the fia_r datasets\n",
    "fia_final_r = pd.concat(dict_of_fia_r, ignore_index=False)\n",
    "\n",
    "#output the left and right dataframes to csv file\n",
    "#fia_final_l.to_csv(\"fia_final_l.csv\", index=True)\n",
    "#fia_final_r.to_csv(\"fia_final_r.csv\", index=True)\n",
    "\n",
    "#total number of rows to find no. of frames where animal investigated for 1.5+ seconds\n",
    "total_ROItime_l_f = len(fia_final_l)\n",
    "print(total_ROItime_l_f)\n",
    "\n",
    "total_ROItime_r_f = len(fia_final_r)\n",
    "print(total_ROItime_r_f)\n",
    "\n",
    "#in seconds\n",
    "total_ROItime_l_s = round(total_ROItime_l_f/60, 2)\n",
    "total_ROItime_r_s = round(total_ROItime_r_f/60, 2)\n",
    "\n",
    "#calculate total number of entries into each ROI\n",
    "number_entries_l = fia_final_l[\"Group\"].nunique()\n",
    "number_entries_r = fia_final_r[\"Group\"].nunique()\n",
    "\n",
    "print(total_ROItime_l_s)\n",
    "print(number_entries_r)\n",
    "\n",
    "pr_r"
   ]
  },
  {
   "cell_type": "code",
   "execution_count": 684,
   "metadata": {
    "pycharm": {
     "name": "#%%\n"
    }
   },
   "outputs": [],
   "source": [
    "#total no. of frames nose spent in ROIs \n",
    "frames_OL = fia_both['in'+objs[0].name].sum()\n",
    "frames_OR = fia_both['in'+objs[1].name].sum()\n",
    "#totalframes = round((len(fia_both['in'+objs[0].name]))/60, 2)\n",
    "\n",
    "#time inside ROI in seconds\n",
    "time_OL = round(frames_OL/60, 2)\n",
    "time_OR = round(frames_OR/60, 2)\n",
    "\n",
    "#proportion of total time inside ROIs\n",
    "propframes_OL = round(fia_both['in'+objs[0].name].sum()/len(fia_both['in'+objs[0].name]), 2)\n",
    "propframes_OR = round(fia_both['in'+objs[1].name].sum()/len(fia_both['in'+objs[1].name]), 2)"
   ]
  },
  {
   "cell_type": "code",
   "execution_count": 788,
   "metadata": {},
   "outputs": [
    {
     "data": {
      "text/plain": [
       "array([0.        , 0.08314333, 0.0493285 , ..., 1.57112702, 1.86861007,\n",
       "       3.59049216])"
      ]
     },
     "execution_count": 788,
     "metadata": {},
     "output_type": "execute_result"
    }
   ],
   "source": [
    "#summarise locomotion \n",
    "\n",
    "#create array with x y nose coordinates\n",
    "nose_xy_1 = sess_df['nose'].drop(columns='likelihood')\n",
    "pairs = nose_xy_1.to_numpy()\n",
    "\n",
    "\n",
    "#function to compare x y coordinates with previous frame and calculate difference\n",
    "def locomotion(pairs):\n",
    "    # loop over each pair of points and extract distances\n",
    "    dist = []\n",
    "    for n, pos in enumerate(pairs):\n",
    "        # Get a pair of points\n",
    "        if n == 0:  # get the position at time 0, velocity is 0\n",
    "            p0 = pos\n",
    "            dist.append(0)\n",
    "        else:\n",
    "            p1 = pos  # get position at current frame\n",
    "\n",
    "            # Calc distance\n",
    "            dist.append(np.abs(distance.euclidean(p0, p1)))\n",
    "\n",
    "            # Prepare for next iteration, current position becomes the old one and repeat\n",
    "            p0 = p1\n",
    "\n",
    "    return np.array(dist)\n",
    "\n",
    "#sum differences to find total distance moved in pixels and cm \n",
    "px_moved_1 = locomotion(pairs)\n",
    "\n",
    "total_moved_px = px_moved_1.sum().round(2)\n",
    "total_moved_cm = round((total_moved_px * scale), 2)\n",
    "\n",
    "#calculate the discrimination index\n",
    "di = round(((total_ROItime_r_s - total_ROItime_l_s) / (total_ROItime_r_s + total_ROItime_l_s))*100, 2)\n",
    "\n",
    "px_moved_1"
   ]
  },
  {
   "cell_type": "code",
   "execution_count": 686,
   "metadata": {},
   "outputs": [],
   "source": [
    "#create a final df with summary of animal behaviour \n",
    "\n",
    "#average time spent in L ROI (s)? - not for one animal ?\n",
    "#average time spent in R ROI (s)? - not for one animal ? \n",
    "\n",
    "\n",
    "final_df = pd.DataFrame([[mouse, session, group, familiar, novel, total_moved_cm, total_moved_px, total_ROItime_l_f, total_ROItime_r_f, total_ROItime_l_s, total_ROItime_r_s, frames_OL, propframes_OL, time_OL, frames_OR, propframes_OR, time_OR, number_entries_l, number_entries_r, di]],\n",
    "                        columns=['mouse id', 'session', 'group', 'familiar', 'novel', 't_move_cm', 't_move_px', ('t_fr_' + left_obj), ('t_fr_' + right_obj), ('t_s_' + left_obj), ('t_s_' + right_obj), ('sum_fr_' + left_obj), ('prop_fr_' + left_obj), ('sum_s_' + left_obj), ('sum_fr_' + right_obj), ('prop_fr_' + left_obj), ('sum_s_' + right_obj), ('entries_' + left_obj), ('entries_' + right_obj), 'di'])\n",
    "\n",
    "\n",
    "#save to csv\n",
    "final_name = mouse + session\n",
    "#final_df.to_csv(final_name+\"results.csv\", index=False) \n",
    "#specify save to folder?"
   ]
  },
  {
   "cell_type": "code",
   "execution_count": 687,
   "metadata": {},
   "outputs": [
    {
     "data": {
      "text/html": [
       "<div>\n",
       "<style scoped>\n",
       "    .dataframe tbody tr th:only-of-type {\n",
       "        vertical-align: middle;\n",
       "    }\n",
       "\n",
       "    .dataframe tbody tr th {\n",
       "        vertical-align: top;\n",
       "    }\n",
       "\n",
       "    .dataframe thead th {\n",
       "        text-align: right;\n",
       "    }\n",
       "</style>\n",
       "<table border=\"1\" class=\"dataframe\">\n",
       "  <thead>\n",
       "    <tr style=\"text-align: right;\">\n",
       "      <th></th>\n",
       "      <th>mouse id</th>\n",
       "      <th>session</th>\n",
       "      <th>group</th>\n",
       "      <th>familiar</th>\n",
       "      <th>novel</th>\n",
       "      <th>t_move_cm</th>\n",
       "      <th>t_move_px</th>\n",
       "      <th>t_fr_left</th>\n",
       "      <th>t_fr_right</th>\n",
       "      <th>t_s_left</th>\n",
       "      <th>t_s_right</th>\n",
       "      <th>sum_fr_left</th>\n",
       "      <th>prop_fr_left</th>\n",
       "      <th>sum_s_left</th>\n",
       "      <th>sum_fr_right</th>\n",
       "      <th>prop_fr_left</th>\n",
       "      <th>sum_s_right</th>\n",
       "      <th>entries_left</th>\n",
       "      <th>entries_right</th>\n",
       "      <th>di</th>\n",
       "    </tr>\n",
       "  </thead>\n",
       "  <tbody>\n",
       "    <tr>\n",
       "      <th>0</th>\n",
       "      <td>MPV3_MA20</td>\n",
       "      <td>2</td>\n",
       "      <td>Control</td>\n",
       "      <td>right</td>\n",
       "      <td>left</td>\n",
       "      <td>24039.12</td>\n",
       "      <td>308193.89</td>\n",
       "      <td>143</td>\n",
       "      <td>253</td>\n",
       "      <td>2.38</td>\n",
       "      <td>4.22</td>\n",
       "      <td>675</td>\n",
       "      <td>0.12</td>\n",
       "      <td>11.25</td>\n",
       "      <td>525</td>\n",
       "      <td>0.09</td>\n",
       "      <td>8.75</td>\n",
       "      <td>4</td>\n",
       "      <td>2</td>\n",
       "      <td>27.88</td>\n",
       "    </tr>\n",
       "  </tbody>\n",
       "</table>\n",
       "</div>"
      ],
      "text/plain": [
       "    mouse id session    group familiar novel  t_move_cm  t_move_px  t_fr_left  \\\n",
       "0  MPV3_MA20       2  Control    right  left   24039.12  308193.89        143   \n",
       "\n",
       "   t_fr_right  t_s_left  t_s_right  sum_fr_left  prop_fr_left  sum_s_left  \\\n",
       "0         253      2.38       4.22          675          0.12       11.25   \n",
       "\n",
       "   sum_fr_right  prop_fr_left  sum_s_right  entries_left  entries_right     di  \n",
       "0           525          0.09         8.75             4              2  27.88  "
      ]
     },
     "execution_count": 687,
     "metadata": {},
     "output_type": "execute_result"
    }
   ],
   "source": [
    "final_df.head()"
   ]
  },
  {
   "cell_type": "code",
   "execution_count": 688,
   "metadata": {},
   "outputs": [
    {
     "data": {
      "text/plain": [
       "-27.878787878787882"
      ]
     },
     "execution_count": 688,
     "metadata": {},
     "output_type": "execute_result"
    }
   ],
   "source": []
  },
  {
   "cell_type": "code",
   "execution_count": null,
   "metadata": {},
   "outputs": [],
   "source": []
  }
 ],
 "metadata": {
  "kernelspec": {
   "display_name": "Python 3 (ipykernel)",
   "language": "python",
   "name": "python3"
  },
  "language_info": {
   "codemirror_mode": {
    "name": "ipython",
    "version": 3
   },
   "file_extension": ".py",
   "mimetype": "text/x-python",
   "name": "python",
   "nbconvert_exporter": "python",
   "pygments_lexer": "ipython3",
   "version": "3.9.12"
  }
 },
 "nbformat": 4,
 "nbformat_minor": 1
}
